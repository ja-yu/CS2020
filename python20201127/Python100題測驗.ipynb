{
  "nbformat": 4,
  "nbformat_minor": 0,
  "metadata": {
    "colab": {
      "name": "Python100題測驗.ipynb",
      "provenance": [],
      "collapsed_sections": [],
      "authorship_tag": "ABX9TyNqqsTkPvAivnBZbr6IL3Sx",
      "include_colab_link": true
    },
    "kernelspec": {
      "name": "python3",
      "display_name": "Python 3"
    }
  },
  "cells": [
    {
      "cell_type": "markdown",
      "metadata": {
        "id": "view-in-github",
        "colab_type": "text"
      },
      "source": [
        "<a href=\"https://colab.research.google.com/github/ja-yu/CS2020/blob/master/Python100%E9%A1%8C%E6%B8%AC%E9%A9%97.ipynb\" target=\"_parent\"><img src=\"https://colab.research.google.com/assets/colab-badge.svg\" alt=\"Open In Colab\"/></a>"
      ]
    },
    {
      "cell_type": "markdown",
      "metadata": {
        "id": "bvZGVk94cKn2"
      },
      "source": [
        "1.要在螢幕輸出Hello, Python!"
      ]
    },
    {
      "cell_type": "code",
      "metadata": {
        "id": "yrmmNajWvk9v",
        "colab": {
          "base_uri": "https://localhost:8080/"
        },
        "outputId": "feb899d9-5f63-441c-ad8b-11c2efb52097"
      },
      "source": [
        "#!/usr/bin/python3\n",
        "print(\"Hello, Python!\")"
      ],
      "execution_count": 1,
      "outputs": [
        {
          "output_type": "stream",
          "text": [
            "Hello, Python!\n"
          ],
          "name": "stdout"
        }
      ]
    },
    {
      "cell_type": "code",
      "metadata": {
        "colab": {
          "base_uri": "https://localhost:8080/",
          "height": 182
        },
        "id": "-8npntY5cce0",
        "outputId": "a850caf3-a8bc-48f7-b9ae-603098676611"
      },
      "source": [
        "#!/usr/bin/python3\n",
        "printf(\"Hello, Python!\")"
      ],
      "execution_count": 2,
      "outputs": [
        {
          "output_type": "error",
          "ename": "NameError",
          "evalue": "ignored",
          "traceback": [
            "\u001b[0;31m---------------------------------------------------------------------------\u001b[0m",
            "\u001b[0;31mNameError\u001b[0m                                 Traceback (most recent call last)",
            "\u001b[0;32m<ipython-input-2-db9a0474c3a9>\u001b[0m in \u001b[0;36m<module>\u001b[0;34m()\u001b[0m\n\u001b[1;32m      1\u001b[0m \u001b[0;31m#!/usr/bin/python3\u001b[0m\u001b[0;34m\u001b[0m\u001b[0;34m\u001b[0m\u001b[0;34m\u001b[0m\u001b[0m\n\u001b[0;32m----> 2\u001b[0;31m \u001b[0mprintf\u001b[0m\u001b[0;34m(\u001b[0m\u001b[0;34m\"Hello, Python!\"\u001b[0m\u001b[0;34m)\u001b[0m\u001b[0;34m\u001b[0m\u001b[0;34m\u001b[0m\u001b[0m\n\u001b[0m",
            "\u001b[0;31mNameError\u001b[0m: name 'printf' is not defined"
          ]
        }
      ]
    },
    {
      "cell_type": "markdown",
      "metadata": {
        "id": "bRZUf1LUctPd"
      },
      "source": [
        "2.要在程式碼中新增一行註解"
      ]
    },
    {
      "cell_type": "code",
      "metadata": {
        "colab": {
          "base_uri": "https://localhost:8080/"
        },
        "id": "YACJmytYcsn4",
        "outputId": "38a75c47-6e06-4f27-d9d7-d84197a0b3cd"
      },
      "source": [
        "#!/usr/bin/python3\n",
        "#這是一行註解\n",
        "print(\"Hello, Python!\")"
      ],
      "execution_count": 3,
      "outputs": [
        {
          "output_type": "stream",
          "text": [
            "Hello, Python!\n"
          ],
          "name": "stdout"
        }
      ]
    },
    {
      "cell_type": "code",
      "metadata": {
        "colab": {
          "base_uri": "https://localhost:8080/",
          "height": 199
        },
        "id": "ILG-2c2idB62",
        "outputId": "ee2495e7-bc5f-4557-d0bb-1dde62b6b3e5"
      },
      "source": [
        "#!/usr/bin/python3\n",
        "/這是一行註解\n",
        "print(\"Hello, Python!\")"
      ],
      "execution_count": 4,
      "outputs": [
        {
          "output_type": "error",
          "ename": "NameError",
          "evalue": "ignored",
          "traceback": [
            "\u001b[0;31m---------------------------------------------------------------------------\u001b[0m",
            "\u001b[0;31mNameError\u001b[0m                                 Traceback (most recent call last)",
            "\u001b[0;32m<ipython-input-4-4a8dd211923b>\u001b[0m in \u001b[0;36m<module>\u001b[0;34m()\u001b[0m\n\u001b[1;32m      1\u001b[0m \u001b[0;31m#!/usr/bin/python3\u001b[0m\u001b[0;34m\u001b[0m\u001b[0;34m\u001b[0m\u001b[0;34m\u001b[0m\u001b[0m\n\u001b[0;32m----> 2\u001b[0;31m \u001b[0m這是一行註解\u001b[0m\u001b[0;34m(\u001b[0m\u001b[0;34m)\u001b[0m\u001b[0;34m\u001b[0m\u001b[0;34m\u001b[0m\u001b[0m\n\u001b[0m\u001b[1;32m      3\u001b[0m \u001b[0mprint\u001b[0m\u001b[0;34m(\u001b[0m\u001b[0;34m\"Hello, Python!\"\u001b[0m\u001b[0;34m)\u001b[0m\u001b[0;34m\u001b[0m\u001b[0;34m\u001b[0m\u001b[0m\n",
            "\u001b[0;31mNameError\u001b[0m: name '這是一行註解' is not defined"
          ]
        }
      ]
    },
    {
      "cell_type": "code",
      "metadata": {
        "colab": {
          "base_uri": "https://localhost:8080/",
          "height": 131
        },
        "id": "IIgaphtBdGh_",
        "outputId": "73650fee-307b-4a50-89f8-5bec1540bdfa"
      },
      "source": [
        "#!/usr/bin/python3\n",
        "/*這是一行註解*\n",
        "print(\"Hello, Python!\")"
      ],
      "execution_count": 6,
      "outputs": [
        {
          "output_type": "error",
          "ename": "SyntaxError",
          "evalue": "ignored",
          "traceback": [
            "\u001b[0;36m  File \u001b[0;32m\"<ipython-input-6-dbbe11871e22>\"\u001b[0;36m, line \u001b[0;32m2\u001b[0m\n\u001b[0;31m    *這是一行註解*()\u001b[0m\n\u001b[0m              ^\u001b[0m\n\u001b[0;31mSyntaxError\u001b[0m\u001b[0;31m:\u001b[0m can't use starred expression here\n"
          ]
        }
      ]
    },
    {
      "cell_type": "markdown",
      "metadata": {
        "id": "bYToLJl0dZFK"
      },
      "source": [
        "3.要新建一個變數名稱為school，並將變數值設定為ksu"
      ]
    },
    {
      "cell_type": "code",
      "metadata": {
        "colab": {
          "base_uri": "https://localhost:8080/",
          "height": 35
        },
        "id": "SpOp7t33dZzT",
        "outputId": "93de628b-f3e6-4a29-feb8-ba1dd8e8cfde"
      },
      "source": [
        "#!/usr/bin/python3\n",
        "school = \"ksu\"\n",
        "school"
      ],
      "execution_count": 8,
      "outputs": [
        {
          "output_type": "execute_result",
          "data": {
            "application/vnd.google.colaboratory.intrinsic+json": {
              "type": "string"
            },
            "text/plain": [
              "'ksu'"
            ]
          },
          "metadata": {
            "tags": []
          },
          "execution_count": 8
        }
      ]
    },
    {
      "cell_type": "markdown",
      "metadata": {
        "id": "Scvgvxzme9Dq"
      },
      "source": [
        "4.要檢查變數資料型別"
      ]
    },
    {
      "cell_type": "code",
      "metadata": {
        "colab": {
          "base_uri": "https://localhost:8080/"
        },
        "id": "Ksm3GHnhe8ne",
        "outputId": "cd841e34-273f-468f-8760-cacb5f9c8f0e"
      },
      "source": [
        "#!/usr/bin/python3\n",
        "y = 65535\n",
        "print(type(y))"
      ],
      "execution_count": 9,
      "outputs": [
        {
          "output_type": "stream",
          "text": [
            "<class 'int'>\n"
          ],
          "name": "stdout"
        }
      ]
    },
    {
      "cell_type": "markdown",
      "metadata": {
        "id": "nHtqZW2sfJjm"
      },
      "source": [
        "5.試問以下程式執行後輸出什麼:"
      ]
    },
    {
      "cell_type": "code",
      "metadata": {
        "colab": {
          "base_uri": "https://localhost:8080/"
        },
        "id": "CuxBPVUQfMxW",
        "outputId": "4e5b06f8-3fbd-4ebb-e6d9-618bb30229c2"
      },
      "source": [
        "#!/usr/bin/python3\n",
        "y = 65535\n",
        "print(type(y))"
      ],
      "execution_count": 10,
      "outputs": [
        {
          "output_type": "stream",
          "text": [
            "<class 'int'>\n"
          ],
          "name": "stdout"
        }
      ]
    },
    {
      "cell_type": "markdown",
      "metadata": {
        "id": "QqsZRiE8fs2U"
      },
      "source": [
        "6.要在程式碼中進行資料型態轉換 將x轉換成float:"
      ]
    },
    {
      "cell_type": "code",
      "metadata": {
        "colab": {
          "base_uri": "https://localhost:8080/"
        },
        "id": "mgry_DMnfxNn",
        "outputId": "f9131de0-4ee8-4680-a176-677fbf7d2bca"
      },
      "source": [
        "#!/usr/bin/python3\n",
        "x = 65535\n",
        "print(type(float(x)))\n",
        "type(x)"
      ],
      "execution_count": 20,
      "outputs": [
        {
          "output_type": "stream",
          "text": [
            "<class 'float'>\n"
          ],
          "name": "stdout"
        },
        {
          "output_type": "execute_result",
          "data": {
            "text/plain": [
              "int"
            ]
          },
          "metadata": {
            "tags": []
          },
          "execution_count": 20
        }
      ]
    },
    {
      "cell_type": "markdown",
      "metadata": {
        "id": "0GXpqAFlg_95"
      },
      "source": [
        "7.要計算一個字串長度"
      ]
    },
    {
      "cell_type": "code",
      "metadata": {
        "colab": {
          "base_uri": "https://localhost:8080/"
        },
        "id": "fn5frvIwhCdw",
        "outputId": "5b8ab53d-fd15-4faa-d816-ea2b47afc797"
      },
      "source": [
        "#!/usr/bin/python3\n",
        "string1 = \"Hello, Python!\"\n",
        "print(len(string1))"
      ],
      "execution_count": 21,
      "outputs": [
        {
          "output_type": "stream",
          "text": [
            "14\n"
          ],
          "name": "stdout"
        }
      ]
    },
    {
      "cell_type": "markdown",
      "metadata": {
        "id": "1reBl3YIhWwT"
      },
      "source": [
        "8.試問以下程式執行後輸出什麼結果:"
      ]
    },
    {
      "cell_type": "code",
      "metadata": {
        "colab": {
          "base_uri": "https://localhost:8080/"
        },
        "id": "MQWZXH3uhMBB",
        "outputId": "5bade8c9-b86f-49a6-e2d6-939dd07a5099"
      },
      "source": [
        "#!/usr/bin/python3\n",
        "print(100 < 200)"
      ],
      "execution_count": 22,
      "outputs": [
        {
          "output_type": "stream",
          "text": [
            "True\n"
          ],
          "name": "stdout"
        }
      ]
    },
    {
      "cell_type": "markdown",
      "metadata": {
        "id": "FsxSuFh8hblT"
      },
      "source": [
        "9.要定義一個整數變數a"
      ]
    },
    {
      "cell_type": "code",
      "metadata": {
        "colab": {
          "base_uri": "https://localhost:8080/"
        },
        "id": "-zUFnNyHhfNE",
        "outputId": "7e44c492-92f1-41f3-f9c2-00fbd27a6392"
      },
      "source": [
        "#!/usr/bin/python3\n",
        "a = 1\n",
        "type(a)"
      ],
      "execution_count": 23,
      "outputs": [
        {
          "output_type": "execute_result",
          "data": {
            "text/plain": [
              "int"
            ]
          },
          "metadata": {
            "tags": []
          },
          "execution_count": 23
        }
      ]
    },
    {
      "cell_type": "code",
      "metadata": {
        "colab": {
          "base_uri": "https://localhost:8080/"
        },
        "id": "D4PbFYv5hplu",
        "outputId": "e89d8d80-f4ac-4631-f5e4-7140ab90ca3e"
      },
      "source": [
        "#!/usr/bin/python3\n",
        "a = 1.0\n",
        "type(a)"
      ],
      "execution_count": 24,
      "outputs": [
        {
          "output_type": "execute_result",
          "data": {
            "text/plain": [
              "float"
            ]
          },
          "metadata": {
            "tags": []
          },
          "execution_count": 24
        }
      ]
    },
    {
      "cell_type": "code",
      "metadata": {
        "colab": {
          "base_uri": "https://localhost:8080/"
        },
        "id": "1MsXLbAkhrgG",
        "outputId": "72552825-9c3c-4fee-e599-cbd98a988433"
      },
      "source": [
        "#!/usr/bin/python3\n",
        "a = 100/10\n",
        "type(a)"
      ],
      "execution_count": 25,
      "outputs": [
        {
          "output_type": "execute_result",
          "data": {
            "text/plain": [
              "float"
            ]
          },
          "metadata": {
            "tags": []
          },
          "execution_count": 25
        }
      ]
    },
    {
      "cell_type": "code",
      "metadata": {
        "colab": {
          "base_uri": "https://localhost:8080/"
        },
        "id": "FnX5vmfHhvVh",
        "outputId": "0f2df8dc-bc29-49dd-ccab-aee0841cb213"
      },
      "source": [
        "#!/usr/bin/python3\n",
        "a = 1.0*1.0\n",
        "type(a)"
      ],
      "execution_count": 26,
      "outputs": [
        {
          "output_type": "execute_result",
          "data": {
            "text/plain": [
              "float"
            ]
          },
          "metadata": {
            "tags": []
          },
          "execution_count": 26
        }
      ]
    },
    {
      "cell_type": "markdown",
      "metadata": {
        "id": "fiRi1VHTh0qn"
      },
      "source": [
        "10.試問以下程式執行後輸出什麼結果:"
      ]
    },
    {
      "cell_type": "code",
      "metadata": {
        "colab": {
          "base_uri": "https://localhost:8080/"
        },
        "id": "qLCe7YGOh3Yx",
        "outputId": "bae698a4-f4b1-4749-b566-b07c763768f9"
      },
      "source": [
        "#!/usr/bin/python3\n",
        "a = bool(100)\n",
        "print(a)"
      ],
      "execution_count": 27,
      "outputs": [
        {
          "output_type": "stream",
          "text": [
            "True\n"
          ],
          "name": "stdout"
        }
      ]
    },
    {
      "cell_type": "code",
      "metadata": {
        "colab": {
          "base_uri": "https://localhost:8080/"
        },
        "id": "Gu8Ew0bViGHO",
        "outputId": "4a8e7599-c82b-4e03-9ad9-8ae97acf4464"
      },
      "source": [
        "#!/usr/bin/python3\n",
        "a = bool(0)\n",
        "print(a)"
      ],
      "execution_count": 29,
      "outputs": [
        {
          "output_type": "stream",
          "text": [
            "False\n"
          ],
          "name": "stdout"
        }
      ]
    },
    {
      "cell_type": "markdown",
      "metadata": {
        "id": "k1G0u69giOP3"
      },
      "source": [
        "11.要在螢幕輸出變數a的資料型態"
      ]
    },
    {
      "cell_type": "code",
      "metadata": {
        "colab": {
          "base_uri": "https://localhost:8080/"
        },
        "id": "Y5pqXzx_iOEo",
        "outputId": "6389a5a6-d302-4658-8d3f-1db46ee9818c"
      },
      "source": [
        "#!/usr/bin/python3\n",
        "a = 100\n",
        "print(type(a))"
      ],
      "execution_count": 30,
      "outputs": [
        {
          "output_type": "stream",
          "text": [
            "<class 'int'>\n"
          ],
          "name": "stdout"
        }
      ]
    },
    {
      "cell_type": "code",
      "metadata": {
        "colab": {
          "base_uri": "https://localhost:8080/",
          "height": 199
        },
        "id": "C5QWQAgsig3W",
        "outputId": "439ca6e4-6809-4095-8cb6-758b3a3d6db8"
      },
      "source": [
        "#!/usr/bin/python3\n",
        "a = 100\n",
        "print(any(a))"
      ],
      "execution_count": 33,
      "outputs": [
        {
          "output_type": "error",
          "ename": "TypeError",
          "evalue": "ignored",
          "traceback": [
            "\u001b[0;31m---------------------------------------------------------------------------\u001b[0m",
            "\u001b[0;31mTypeError\u001b[0m                                 Traceback (most recent call last)",
            "\u001b[0;32m<ipython-input-33-ab567cad4b08>\u001b[0m in \u001b[0;36m<module>\u001b[0;34m()\u001b[0m\n\u001b[1;32m      1\u001b[0m \u001b[0;31m#!/usr/bin/python3\u001b[0m\u001b[0;34m\u001b[0m\u001b[0;34m\u001b[0m\u001b[0;34m\u001b[0m\u001b[0m\n\u001b[1;32m      2\u001b[0m \u001b[0ma\u001b[0m \u001b[0;34m=\u001b[0m \u001b[0;36m100\u001b[0m\u001b[0;34m\u001b[0m\u001b[0;34m\u001b[0m\u001b[0m\n\u001b[0;32m----> 3\u001b[0;31m \u001b[0mprint\u001b[0m\u001b[0;34m(\u001b[0m\u001b[0many\u001b[0m\u001b[0;34m(\u001b[0m\u001b[0ma\u001b[0m\u001b[0;34m)\u001b[0m\u001b[0;34m)\u001b[0m\u001b[0;34m\u001b[0m\u001b[0;34m\u001b[0m\u001b[0m\n\u001b[0m",
            "\u001b[0;31mTypeError\u001b[0m: 'int' object is not iterable"
          ]
        }
      ]
    },
    {
      "cell_type": "code",
      "metadata": {
        "colab": {
          "base_uri": "https://localhost:8080/"
        },
        "id": "I2_bHpcOirbu",
        "outputId": "3b7e6271-a0e8-4057-e36b-aca33a28cad3"
      },
      "source": [
        "#!/usr/bin/python3\n",
        "a = 100\n",
        "print(complex(a))"
      ],
      "execution_count": 34,
      "outputs": [
        {
          "output_type": "stream",
          "text": [
            "(100+0j)\n"
          ],
          "name": "stdout"
        }
      ]
    },
    {
      "cell_type": "code",
      "metadata": {
        "colab": {
          "base_uri": "https://localhost:8080/"
        },
        "id": "2xqlBchhiulr",
        "outputId": "4c0b0854-4225-41da-aa02-70d0bb069ea4"
      },
      "source": [
        "#!/usr/bin/python3\n",
        "a = 100\n",
        "print(bin(a))"
      ],
      "execution_count": 35,
      "outputs": [
        {
          "output_type": "stream",
          "text": [
            "0b1100100\n"
          ],
          "name": "stdout"
        }
      ]
    }
  ]
}
