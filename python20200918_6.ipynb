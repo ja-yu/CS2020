{
  "nbformat": 4,
  "nbformat_minor": 0,
  "metadata": {
    "colab": {
      "name": "python20200918_6.ipynb",
      "provenance": [],
      "collapsed_sections": [],
      "authorship_tag": "ABX9TyMd/HK9QlstRwInrZf1CbFB",
      "include_colab_link": true
    },
    "kernelspec": {
      "name": "python3",
      "display_name": "Python 3"
    }
  },
  "cells": [
    {
      "cell_type": "markdown",
      "metadata": {
        "id": "view-in-github",
        "colab_type": "text"
      },
      "source": [
        "<a href=\"https://colab.research.google.com/github/ja-yu/CS2020/blob/master/python20200918_6.ipynb\" target=\"_parent\"><img src=\"https://colab.research.google.com/assets/colab-badge.svg\" alt=\"Open In Colab\"/></a>"
      ]
    },
    {
      "cell_type": "markdown",
      "metadata": {
        "id": "AhlG6ebsaHAj",
        "colab_type": "text"
      },
      "source": [
        "20200918"
      ]
    },
    {
      "cell_type": "code",
      "metadata": {
        "id": "6Po3QecTaBRH",
        "colab_type": "code",
        "colab": {
          "base_uri": "https://localhost:8080/",
          "height": 119
        },
        "outputId": "8aa024b9-52c1-43a1-c563-7542d8aed075"
      },
      "source": [
        "print(chr(97)) \n",
        "\n",
        "print(chr(66))\n",
        "\n",
        "print(ord('a'))    \n",
        "print(bin(ord('a')))\n",
        "print(oct(ord('a')))\n",
        "print(hex(ord('a')))"
      ],
      "execution_count": 1,
      "outputs": [
        {
          "output_type": "stream",
          "text": [
            "a\n",
            "B\n",
            "97\n",
            "0b1100001\n",
            "0o141\n",
            "0x61\n"
          ],
          "name": "stdout"
        }
      ]
    },
    {
      "cell_type": "code",
      "metadata": {
        "id": "ILLFsZpWeIdo",
        "colab_type": "code",
        "colab": {
          "base_uri": "https://localhost:8080/",
          "height": 85
        },
        "outputId": "63101c01-77af-4904-9aa0-05ab271a3811"
      },
      "source": [
        "a=\"66   114\".split(\"   \")\n",
        "print(a)\n",
        "\n",
        "a=\"66 114\".split(\"  \")\n",
        "print(a)\n",
        "\n",
        "a=\"66 114\".split(\" \")\n",
        "print(a)\n",
        "type(a)\n"
      ],
      "execution_count": 8,
      "outputs": [
        {
          "output_type": "stream",
          "text": [
            "['66', '114']\n",
            "['66 114']\n",
            "['66', '114']\n"
          ],
          "name": "stdout"
        },
        {
          "output_type": "execute_result",
          "data": {
            "text/plain": [
              "list"
            ]
          },
          "metadata": {
            "tags": []
          },
          "execution_count": 8
        }
      ]
    },
    {
      "cell_type": "code",
      "metadata": {
        "id": "cR_iHYQbEfFd",
        "colab_type": "code",
        "colab": {
          "base_uri": "https://localhost:8080/",
          "height": 35
        },
        "outputId": "e515d413-493a-4178-c801-aef75f1c7d3a"
      },
      "source": [
        "a=\"66 114\".split(\" \")\n",
        "\n",
        "result=''\n",
        "\n",
        "for x in a:\n",
        "  y=chr(int(x))\n",
        "  result += y\n",
        "# result = result + y \n",
        "\n",
        "result"
      ],
      "execution_count": 9,
      "outputs": [
        {
          "output_type": "execute_result",
          "data": {
            "application/vnd.google.colaboratory.intrinsic+json": {
              "type": "string"
            },
            "text/plain": [
              "'Br'"
            ]
          },
          "metadata": {
            "tags": []
          },
          "execution_count": 9
        }
      ]
    },
    {
      "cell_type": "code",
      "metadata": {
        "id": "--OkOOGVEx2X",
        "colab_type": "code",
        "colab": {
          "base_uri": "https://localhost:8080/",
          "height": 34
        },
        "outputId": "60c1ada6-b9a0-44c4-8e43-93a5e0b83bbc"
      },
      "source": [
        "#!/usr/bin/python\n",
        "\n",
        "c = '66 114 101 97 107 65 76 76 67 84 70 123 65 109 118 48 117 68 121 101 114 118 80 116 109 86 114 57 83 83 83 75 125'\n",
        "\n",
        "flag = \"\"\n",
        "\n",
        "for _ in c.split(' '):\n",
        "  flag += chr(int(_))\n",
        "\n",
        "print(flag)"
      ],
      "execution_count": null,
      "outputs": [
        {
          "output_type": "stream",
          "text": [
            "BreakALLCTF{Amv0uDyervPtmVr9SSSK}\n"
          ],
          "name": "stdout"
        }
      ]
    },
    {
      "cell_type": "code",
      "metadata": {
        "id": "pxw2rhdME4qI",
        "colab_type": "code",
        "colab": {
          "base_uri": "https://localhost:8080/",
          "height": 34
        },
        "outputId": "c92d5e7c-db91-4ff0-bfee-36123337bea2"
      },
      "source": [
        "#!/usr/bin/python\n",
        "\n",
        "c = '66 114 101 97 107 65 76 76 67 84 70 123 65 109 118 48 117 68 121 101 114 118 80 116 109 86 114 57 83 83 83 75 125'\n",
        "\n",
        "flag = \"\"\n",
        "\n",
        "for x in c.split(' '):\n",
        "  flag += chr(int(x))\n",
        "\n",
        "print(flag)"
      ],
      "execution_count": 13,
      "outputs": [
        {
          "output_type": "stream",
          "text": [
            "BreakALLCTF{Amv0uDyervPtmVr9SSSK}\n"
          ],
          "name": "stdout"
        }
      ]
    },
    {
      "cell_type": "code",
      "metadata": {
        "id": "rco1anwbE-6X",
        "colab_type": "code",
        "colab": {
          "base_uri": "https://localhost:8080/",
          "height": 51
        },
        "outputId": "cb89b3df-2b8d-4bc4-ef8f-39049b2a348a"
      },
      "source": [
        "import base64\n",
        "\n",
        "data =b'BreakAllCTF{HappyPythonDay}'\n",
        "encoded_data = base64.b64encode(data)\n",
        "print('Original Data :', data)\n",
        "print('Encoded :', encoded_data)"
      ],
      "execution_count": null,
      "outputs": [
        {
          "output_type": "stream",
          "text": [
            "Original Data : b'BreakAllCTF{HappyPythonDay}'\n",
            "Encoded : b'QnJlYWtBbGxDVEZ7SGFwcHlQeXRob25EYXl9'\n"
          ],
          "name": "stdout"
        }
      ]
    },
    {
      "cell_type": "code",
      "metadata": {
        "id": "upplnieHFCxh",
        "colab_type": "code",
        "colab": {
          "base_uri": "https://localhost:8080/",
          "height": 51
        },
        "outputId": "f4706548-5797-47fc-8444-f3cf1b69c6bf"
      },
      "source": [
        "import base64\n",
        "\n",
        "encoded_data = b'QnJlYWtBTExDVEZ7NTN1c1pRM2hXVzI1ZGNoWjdkWGV9'\n",
        "decoded_data = base64.b64decode(encoded_data)\n",
        "print('Encoded :', encoded_data)\n",
        "print('Decoded :', decoded_data)"
      ],
      "execution_count": null,
      "outputs": [
        {
          "output_type": "stream",
          "text": [
            "Encoded : b'QnJlYWtBTExDVEZ7NTN1c1pRM2hXVzI1ZGNoWjdkWGV9'\n",
            "Decoded : b'BreakALLCTF{53usZQ3hWW25dchZ7dXe}'\n"
          ],
          "name": "stdout"
        }
      ]
    },
    {
      "cell_type": "code",
      "metadata": {
        "id": "sHy0Y9p4FNWf",
        "colab_type": "code",
        "colab": {
          "base_uri": "https://localhost:8080/",
          "height": 68
        },
        "outputId": "5460d22c-ae31-4af6-fead-8c4c7a036c1f"
      },
      "source": [
        "import base64\n",
        "\n",
        "original_data = b'BreakAllCTF{HappyPythonDay}'\n",
        "print('Original data:', original_data)\n",
        "\n",
        "encoded_data = base64.b32encode(original_data)\n",
        "print('Encoded :', encoded_data)\n",
        "\n",
        "decoded_data = base64.b32decode(encoded_data)\n",
        "print('Decoded :', decoded_data)"
      ],
      "execution_count": null,
      "outputs": [
        {
          "output_type": "stream",
          "text": [
            "Original data: b'BreakAllCTF{HappyPythonDay}'\n",
            "Encoded : b'IJZGKYLLIFWGYQ2UIZ5UQYLQOB4VA6LUNBXW4RDBPF6Q===='\n",
            "Decoded : b'BreakAllCTF{HappyPythonDay}'\n"
          ],
          "name": "stdout"
        }
      ]
    },
    {
      "cell_type": "code",
      "metadata": {
        "id": "eruMdCzCxzXB",
        "colab_type": "code",
        "colab": {
          "base_uri": "https://localhost:8080/",
          "height": 34
        },
        "outputId": "202b1c5d-6742-4957-db6b-1c91bc306ed8"
      },
      "source": [
        "import base64\n",
        "\n",
        "data = b'QnJlYWtBTExDVEZ7NTN1c1pRM2hXVzI1ZGNoWjdkWGV9'\n",
        "decoded_data = base64.b64decode(data)\n",
        "\n",
        "print(decoded_data)"
      ],
      "execution_count": 45,
      "outputs": [
        {
          "output_type": "stream",
          "text": [
            "b'BreakALLCTF{53usZQ3hWW25dchZ7dXe}'\n"
          ],
          "name": "stdout"
        }
      ]
    },
    {
      "cell_type": "code",
      "metadata": {
        "id": "jXezhPZTyasg",
        "colab_type": "code",
        "colab": {
          "base_uri": "https://localhost:8080/",
          "height": 34
        },
        "outputId": "52391749-f73e-4d3f-ae85-65b9e9180698"
      },
      "source": [
        "import base64\n",
        "\n",
        "data = b'IJZGKYLLIFGEYQ2UIZ5TS6BUHA2VMUZXO5UWS5CCLJMFKVLIJVSX2==='\n",
        "decoded_data = base64.b32decode(data)\n",
        "\n",
        "print(decoded_data)"
      ],
      "execution_count": 46,
      "outputs": [
        {
          "output_type": "stream",
          "text": [
            "b'BreakALLCTF{9x485VS7wiitBZXUUhMe}'\n"
          ],
          "name": "stdout"
        }
      ]
    },
    {
      "cell_type": "code",
      "metadata": {
        "id": "ErlTRrL40FMT",
        "colab_type": "code",
        "colab": {
          "base_uri": "https://localhost:8080/",
          "height": 34
        },
        "outputId": "b877ae03-e146-4659-d519-2ac5ffba2522"
      },
      "source": [
        "import binascii\n",
        "import base64\n",
        "\n",
        "data = binascii.unhexlify('6236343a20615735305a584a755a58526659323975646d567963326c76626c3930623239736331397962324e72')\n",
        "\n",
        "\n",
        "print(data)"
      ],
      "execution_count": 21,
      "outputs": [
        {
          "output_type": "stream",
          "text": [
            "b'b64: aW50ZXJuZXRfY29udmVyc2lvbl90b29sc19yb2Nr'\n"
          ],
          "name": "stdout"
        }
      ]
    },
    {
      "cell_type": "code",
      "metadata": {
        "id": "aDd9Skxh5E5h",
        "colab_type": "code",
        "colab": {
          "base_uri": "https://localhost:8080/",
          "height": 34
        },
        "outputId": "2ece666c-f733-421b-e7ea-4e8efbdf05d7"
      },
      "source": [
        "decoded_data = base64.b64decode('aW50ZXJuZXRfY29udmVyc2lvbl90b29sc19yb2Nr')\n",
        "\n",
        "print(decoded_data)"
      ],
      "execution_count": 24,
      "outputs": [
        {
          "output_type": "stream",
          "text": [
            "b'internet_conversion_tools_rock'\n"
          ],
          "name": "stdout"
        }
      ]
    },
    {
      "cell_type": "code",
      "metadata": {
        "id": "2QY-R8W48BB5",
        "colab_type": "code",
        "colab": {
          "base_uri": "https://localhost:8080/",
          "height": 85
        },
        "outputId": "4bc46c26-5f0d-4b2c-e243-97e635cb2f11"
      },
      "source": [
        "bin_n = 0b1011\n",
        "\n",
        "print(\"上述二進位數字可被轉換成:\")\n",
        "print(bin_n,\"十進位(Decimal).\")\n",
        "print(oct(bin_n),\"八進位(octal).\")\n",
        "print(hex(bin_n),\"十六進位(hexadecimal).\")"
      ],
      "execution_count": 27,
      "outputs": [
        {
          "output_type": "stream",
          "text": [
            "上述二進位數字可被轉換成:\n",
            "11 十進位(Decimal).\n",
            "0o13 八進位(octal).\n",
            "0xb 十六進位(hexadecimal).\n"
          ],
          "name": "stdout"
        }
      ]
    },
    {
      "cell_type": "code",
      "metadata": {
        "id": "0QzwZQ0y6RP1",
        "colab_type": "code",
        "colab": {
          "base_uri": "https://localhost:8080/",
          "height": 85
        },
        "outputId": "89f855c9-2bbd-4122-f6bf-884a726768bb"
      },
      "source": [
        "dec = 344\n",
        "\n",
        "print(\"10進位數字\",dec,\"可被轉換成:\")\n",
        "print(bin(dec),\"二進位(binary).\")\n",
        "print(oct(dec),\"八進位(octal).\")\n",
        "print(hex(dec),\"十六進位(hexadecimal).\")"
      ],
      "execution_count": 25,
      "outputs": [
        {
          "output_type": "stream",
          "text": [
            "10進位數字 344 可被轉換成:\n",
            "0b101011000 二進位(binary).\n",
            "0o530 八進位(octal).\n",
            "0x158 十六進位(hexadecimal).\n"
          ],
          "name": "stdout"
        }
      ]
    },
    {
      "cell_type": "code",
      "metadata": {
        "id": "A8JzcFEX675F",
        "colab_type": "code",
        "colab": {
          "base_uri": "https://localhost:8080/",
          "height": 119
        },
        "outputId": "b12703f9-d1c7-4afc-c1df-5ee49ebdad93"
      },
      "source": [
        "# binary 0b or 0B\n",
        "print(\"For 1010, int is:\", int('1010', 2))\n",
        "print(\"For 0b1010, int is:\", int('0b1010', 2))\n",
        "\n",
        "# octal 0o or 0O\n",
        "print(\"For 12, int is:\", int('12', 8))\n",
        "print(\"For 0o12, int is:\", int('0o12', 8))\n",
        "\n",
        "# hexadecimal\n",
        "print(\"For A, int is:\", int('A', 16))\n",
        "print(\"For 0xA, int is:\", int('0xA', 16))"
      ],
      "execution_count": 26,
      "outputs": [
        {
          "output_type": "stream",
          "text": [
            "For 1010, int is: 10\n",
            "For 0b1010, int is: 10\n",
            "For 12, int is: 10\n",
            "For 0o12, int is: 10\n",
            "For A, int is: 10\n",
            "For 0xA, int is: 10\n"
          ],
          "name": "stdout"
        }
      ]
    },
    {
      "cell_type": "code",
      "metadata": {
        "id": "BNPA6WdD8OdA",
        "colab_type": "code",
        "colab": {
          "base_uri": "https://localhost:8080/",
          "height": 51
        },
        "outputId": "7770123c-456e-4e95-872a-492c0efa32b6"
      },
      "source": [
        "import base64\n",
        "\n",
        "encoded_data = b'V2VsbCBkb25lIQoKRmxhZzogSVd7TjBfMG5lX2Nhbl9zdDBwX3kwdX0K'\n",
        "decoded_data = base64.b64decode(encoded_data)\n",
        "print('Encoded :', encoded_data)\n",
        "print('Decoded :', decoded_data)"
      ],
      "execution_count": 28,
      "outputs": [
        {
          "output_type": "stream",
          "text": [
            "Encoded : b'V2VsbCBkb25lIQoKRmxhZzogSVd7TjBfMG5lX2Nhbl9zdDBwX3kwdX0K'\n",
            "Decoded : b'Well done!\\n\\nFlag: IW{N0_0ne_can_st0p_y0u}\\n'\n"
          ],
          "name": "stdout"
        }
      ]
    },
    {
      "cell_type": "code",
      "metadata": {
        "id": "u3Qdi2s_8UlB",
        "colab_type": "code",
        "colab": {
          "base_uri": "https://localhost:8080/",
          "height": 51
        },
        "outputId": "22cf32bb-bf90-4a6c-bc01-170d616f21b4"
      },
      "source": [
        "#!/usr/bin/python\n",
        "\n",
        "\n",
        "c = '126 062 126 163 142 103 102 153 142 062 065 154 111 121 157 113 122 155 170 150 132 172 157 147 123 126 144 067 124 152 102 146 115 107 065 154 130 062 116 150 142 154 071 172 144 104 102 167 130 063 153 167 144 130 060 113 012'\n",
        "\n",
        "flag = \"\"\n",
        "\n",
        "for _ in c.split(' '):\n",
        "  flag += chr(int(_,8))\n",
        "\n",
        "print(flag)"
      ],
      "execution_count": 29,
      "outputs": [
        {
          "output_type": "stream",
          "text": [
            "V2VsbCBkb25lIQoKRmxhZzogSVd7TjBfMG5lX2Nhbl9zdDBwX3kwdX0K\n",
            "\n"
          ],
          "name": "stdout"
        }
      ]
    },
    {
      "cell_type": "code",
      "metadata": {
        "id": "78GXMjMd8b6e",
        "colab_type": "code",
        "colab": {
          "base_uri": "https://localhost:8080/",
          "height": 34
        },
        "outputId": "48a6be26-9e09-482c-b81d-4e4a592e031f"
      },
      "source": [
        "import base64\n",
        "\n",
        "solution = base64.b64decode(flag)\n",
        "print(solution)"
      ],
      "execution_count": 31,
      "outputs": [
        {
          "output_type": "stream",
          "text": [
            "b'Well done!\\n\\nFlag: IW{N0_0ne_can_st0p_y0u}\\n'\n"
          ],
          "name": "stdout"
        }
      ]
    },
    {
      "cell_type": "code",
      "metadata": {
        "id": "yfFaIPPs9N-O",
        "colab_type": "code",
        "colab": {
          "base_uri": "https://localhost:8080/",
          "height": 187
        },
        "outputId": "23e4f47c-dc2f-4d91-ab0c-5822c1f5d53a"
      },
      "source": [
        "print(\"Int to Hex:\",   hex(97))  # '0x61'\n",
        "print(\"Int to Char:\",   chr(97))  # 'a'\n",
        "print(\"Int to String:\",  str(97))  # '97'\n",
        "print(\"Hex to int:\",   int('0x61', 16)) # 97\n",
        "print(\"Hex to Char:\", chr(int('0x61', 16))) # 'a'\n",
        "\n",
        "string = '61626364'\n",
        "print(\"Hex to String:\", ''.join(chr(int(string[i:i+2], 16)) for i in range(0, len(string), 2))) # 'abcd'\n",
        "\n",
        "print(\"Char to Int:\", ord('a')) # 97\n",
        "print(\"Char to Hex:\", hex(ord('a'))) # '0x61'\n",
        "print(\"String to Int:\", int('97')) # 97\n",
        "\n",
        "string = 'abcd'\n",
        "print(\"String to Hex:\", ''.join([hex(ord(x))[2:] for x in string])) # '61626364'\n",
        "\n"
      ],
      "execution_count": 37,
      "outputs": [
        {
          "output_type": "stream",
          "text": [
            "Int to Hex: 0x61\n",
            "Int to Char: a\n",
            "Int to String: 97\n",
            "Hex to int: 97\n",
            "Hex to Char: a\n",
            "Hex to String: abcd\n",
            "Char to Int: 97\n",
            "Char to Hex: 0x61\n",
            "String to Int: 97\n",
            "String to Hex: 61626364\n"
          ],
          "name": "stdout"
        }
      ]
    },
    {
      "cell_type": "code",
      "metadata": {
        "id": "Pr2MJ_-HAWhM",
        "colab_type": "code",
        "colab": {
          "base_uri": "https://localhost:8080/",
          "height": 51
        },
        "outputId": "c9ea74c3-404f-4202-a2dd-411e5d1a993b"
      },
      "source": [
        "#coding:utf-8\n",
        "import binascii\n",
        "\n",
        "a = b'HappyCTF{Useful tools binascii}'\n",
        "b = binascii.b2a_hex(a)\n",
        "print(b)\n",
        "print(binascii.a2b_hex(b))"
      ],
      "execution_count": 44,
      "outputs": [
        {
          "output_type": "stream",
          "text": [
            "b'48617070794354467b55736566756c20746f6f6c732062696e61736369697d'\n",
            "b'HappyCTF{Useful tools binascii}'\n"
          ],
          "name": "stdout"
        }
      ]
    },
    {
      "cell_type": "code",
      "metadata": {
        "id": "ez3_IPTbBUNI",
        "colab_type": "code",
        "colab": {
          "base_uri": "https://localhost:8080/",
          "height": 34
        },
        "outputId": "7c09c92c-30b5-4cb1-f9a7-d23f34c28f1c"
      },
      "source": [
        "#!/usr/bin/python\n",
        "\n",
        "vals = \"87 101 108 1100011 0157 6d 0145 040 116 0157 100000 0164 104 1100101 32 0123 69 67 0103 1001111 1001110 040 062 060 49 064 100000 0157 110 6c 0151 1101110 101 040 0103 1010100 70 101110 0124 1101000 101 100000 1010011 1000101 67 0103 4f 4e 100000 105 1110011 040 116 1101000 0145 040 1100010 0151 103 103 0145 1110011 0164 100000 1101000 0141 99 6b 1100101 0162 32 0143 111 1101110 1110100 101 0163 0164 040 0151 0156 040 74 0141 1110000 1100001 0156 056 4f 0157 0160 115 44 040 0171 1101111 117 100000 1110111 0141 0156 1110100 32 0164 6f 32 6b 1101110 1101111 1110111 100000 0164 1101000 0145 040 0146 6c 97 1100111 2c 100000 0144 111 110 100111 116 100000 1111001 6f 117 63 0110 1100101 0162 0145 100000 1111001 111 117 100000 97 114 0145 46 1010011 0105 0103 67 79 1001110 123 87 110011 110001 67 110000 1001101 32 55 060 100000 110111 0110 110011 32 53 51 0103 0103 060 0116 040 5a 0117 73 0101 7d 1001000 0141 1110110 1100101 100000 102 0165 0156 33\"\n",
        "vals = vals.split()\n",
        "\n",
        "def contains_hex(val):\n",
        "    h = \"abcdef\"\n",
        "    for i in val:\n",
        "        if i in h:\n",
        "            return True\n",
        "    return False\n",
        "\n",
        "def main():\n",
        "    flag = []\n",
        "    for i in vals:\n",
        "        if len(i) > 5:\n",
        "            flag.append(int(i, 2))\n",
        "        elif i[0] == \"0\":\n",
        "            flag.append(int(i, 8))\n",
        "        elif contains_hex(i):\n",
        "            flag.append(int(i, 16))\n",
        "        else:\n",
        "            flag.append(int(i))\n",
        "    print(\"%s\" % \"\".join(map(chr, flag)))\n",
        "\n",
        "if __name__ == \"__main__\":\n",
        "    main()"
      ],
      "execution_count": 47,
      "outputs": [
        {
          "output_type": "stream",
          "text": [
            "Welcome to the SECCON 2014 online CTF.The SECCON is the biggest hacker contest in Japan.Oops, you want to know the flag, don't you?Here you are.SECCON{W31C0M 70 7H3 53CC0N ZOIA}Have fun!\n"
          ],
          "name": "stdout"
        }
      ]
    },
    {
      "cell_type": "code",
      "metadata": {
        "id": "VooNlP5DBWUJ",
        "colab_type": "code",
        "colab": {
          "base_uri": "https://localhost:8080/",
          "height": 34
        },
        "outputId": "fa73ccf9-8e80-4f21-f8bc-89550b4c7d29"
      },
      "source": [
        "#!/usr/bin/env python\n",
        "import re\n",
        "import sys\n",
        "\n",
        "message = \"87 101 108 1100011 0157 6d 0145 040 116 0157 100000 0164 104 1100101 32 0123 69 67 0103 1001111 1001110 040 062 060 49 064 100000 0157 110 6c 0151 1101110 101 040 0103 1010100 70 101110 0124 1101000 101 100000 1010011 1000101 67 0103 4f 4e 100000 105 1110011 040 116 1101000 0145 040 1100010 0151 103 103 0145 1110011 0164 100000 1101000 0141 99 6b 1100101 0162 32 0143 111 1101110 1110100 101 0163 0164 040 0151 0156 040 74 0141 1110000 1100001 0156 056 4f 0157 0160 115 44 040 0171 1101111 117 100000 1110111 0141 0156 1110100 32 0164 6f 32 6b 1101110 1101111 1110111 100000 0164 1101000 0145 040 0146 6c 97 1100111 2c 100000 0144 111 110 100111 116 100000 1111001 6f 117 63 0110 1100101 0162 0145 100000 1111001 111 117 100000 97 114 0145 46 1010011 0105 0103 67 79 1001110 123 87 110011 110001 67 110000 1001101 32 55 060 100000 110111 0110 110011 32 53 51 0103 0103 060 0116 040 5a 0117 73 0101 7d 1001000 0141 1110110 1100101 100000 102 0165 0156 33\"\n",
        "codes = message.split()\n",
        "\n",
        "for i, code in enumerate(codes):\n",
        "    if re.match(\"^[01]+$\", code)  and code[0] == \"1\" and len(code) > 3:\n",
        "        sys.stdout.write(chr(int(code, 2)))\n",
        "    elif re.match(\"^[0-9]+$\", code) and code[0] == \"0\":\n",
        "        sys.stdout.write(chr(int(code, 8)))\n",
        "    elif re.match(\"^[0-9]+$\", code):\n",
        "        sys.stdout.write(chr(int(code, 10)))\n",
        "    else:\n",
        "        sys.stdout.write(chr(int(code, 16)))"
      ],
      "execution_count": 48,
      "outputs": [
        {
          "output_type": "stream",
          "text": [
            "Welcome to the SECCON 2014 online CTF.The SECCON is the biggest hacker contest in Japan.Oops, you want to know the flag, don't you?Here you are.SECCON{W31C0M 70 7H3 53CC0N ZOIA}Have fun!"
          ],
          "name": "stdout"
        }
      ]
    }
  ]
}