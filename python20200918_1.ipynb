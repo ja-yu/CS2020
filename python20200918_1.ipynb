{
  "nbformat": 4,
  "nbformat_minor": 0,
  "metadata": {
    "colab": {
      "name": "python20200918_1.ipynb",
      "provenance": [],
      "collapsed_sections": [],
      "authorship_tag": "ABX9TyNvhNcngzpiGQn5pGsFGIg6",
      "include_colab_link": true
    },
    "kernelspec": {
      "name": "python3",
      "display_name": "Python 3"
    }
  },
  "cells": [
    {
      "cell_type": "markdown",
      "metadata": {
        "id": "view-in-github",
        "colab_type": "text"
      },
      "source": [
        "<a href=\"https://colab.research.google.com/github/ja-yu/CS2020/blob/master/python20200918_1.ipynb\" target=\"_parent\"><img src=\"https://colab.research.google.com/assets/colab-badge.svg\" alt=\"Open In Colab\"/></a>"
      ]
    },
    {
      "cell_type": "markdown",
      "metadata": {
        "id": "W5RKM-ghzobf",
        "colab_type": "text"
      },
      "source": [
        "20200918"
      ]
    },
    {
      "cell_type": "code",
      "metadata": {
        "id": "WnTq04P_xnWc",
        "colab_type": "code",
        "colab": {
          "base_uri": "https://localhost:8080/",
          "height": 136
        },
        "outputId": "4344fac8-ad1a-44dd-f6ce-a2bba8b834fa"
      },
      "source": [
        "import pandas as pd\n",
        "print(\"pandas version: %s\" % pd.__version__)\n",
        "\n",
        "import matplotlib\n",
        "print(\"matplotlib version: %s\" % matplotlib.__version__)\n",
        "\n",
        "import numpy as np\n",
        "print(\"numpy version: %s\" % np.__version__)\n",
        "\n",
        "import sklearn\n",
        "print(\"scikit-learn version: %s\" % sklearn.__version__)\n",
        "\n",
        "import tensorflow as tf\n",
        "print(\"tensorflow version: %s\" % tf.__version__)\n",
        "\n",
        "import torch\n",
        "print(\"PyTorch version: %s\" %torch.__version__)\n",
        "print(\"2020年3月PyTorch version最新版本 是1.4 請參閱https://pytorch.org/\")"
      ],
      "execution_count": 1,
      "outputs": [
        {
          "output_type": "stream",
          "text": [
            "pandas version: 1.0.5\n",
            "matplotlib version: 3.2.2\n",
            "numpy version: 1.18.5\n",
            "scikit-learn version: 0.22.2.post1\n",
            "tensorflow version: 2.3.0\n",
            "PyTorch version: 1.6.0+cu101\n",
            "2020年3月PyTorch version最新版本 是1.4 請參閱https://pytorch.org/\n"
          ],
          "name": "stdout"
        }
      ]
    },
    {
      "cell_type": "code",
      "metadata": {
        "id": "MZePAugDyTE8",
        "colab_type": "code",
        "colab": {
          "base_uri": "https://localhost:8080/",
          "height": 85
        },
        "outputId": "de60ac00-91e5-47a1-c3b4-7a4e887c7d18"
      },
      "source": [
        "# -*- coding: utf-8 -*-\n",
        "x = input('Enter your name:')\n",
        "print('Hello, ' + x)\n",
        "\n",
        "a = input(\"請輸入：\")\n",
        "a\n",
        "\n",
        "###  使用Python內建的type()函數顯示資料型態\n",
        "\n",
        "type(a)"
      ],
      "execution_count": 8,
      "outputs": [
        {
          "output_type": "stream",
          "text": [
            "Enter your name:jayu\n",
            "Hello, jayu\n",
            "請輸入：jayu\n"
          ],
          "name": "stdout"
        },
        {
          "output_type": "execute_result",
          "data": {
            "text/plain": [
              "str"
            ]
          },
          "metadata": {
            "tags": []
          },
          "execution_count": 8
        }
      ]
    },
    {
      "cell_type": "code",
      "metadata": {
        "id": "9N42XwcUzK0d",
        "colab_type": "code",
        "colab": {
          "base_uri": "https://localhost:8080/",
          "height": 233
        },
        "outputId": "73303f8f-4d13-4635-8f88-d1d6968c15d8"
      },
      "source": [
        "a = input(\"請輸入：\")\n",
        "a\n",
        "b=a+30\n",
        "b"
      ],
      "execution_count": 9,
      "outputs": [
        {
          "output_type": "stream",
          "text": [
            "請輸入：20\n"
          ],
          "name": "stdout"
        },
        {
          "output_type": "error",
          "ename": "TypeError",
          "evalue": "ignored",
          "traceback": [
            "\u001b[0;31m---------------------------------------------------------------------------\u001b[0m",
            "\u001b[0;31mTypeError\u001b[0m                                 Traceback (most recent call last)",
            "\u001b[0;32m<ipython-input-9-1f4bbfdc68f6>\u001b[0m in \u001b[0;36m<module>\u001b[0;34m()\u001b[0m\n\u001b[1;32m      1\u001b[0m \u001b[0ma\u001b[0m \u001b[0;34m=\u001b[0m \u001b[0minput\u001b[0m\u001b[0;34m(\u001b[0m\u001b[0;34m\"請輸入：\"\u001b[0m\u001b[0;34m)\u001b[0m\u001b[0;34m\u001b[0m\u001b[0;34m\u001b[0m\u001b[0m\n\u001b[1;32m      2\u001b[0m \u001b[0ma\u001b[0m\u001b[0;34m\u001b[0m\u001b[0;34m\u001b[0m\u001b[0m\n\u001b[0;32m----> 3\u001b[0;31m \u001b[0mb\u001b[0m\u001b[0;34m=\u001b[0m\u001b[0ma\u001b[0m\u001b[0;34m+\u001b[0m\u001b[0;36m30\u001b[0m\u001b[0;34m\u001b[0m\u001b[0;34m\u001b[0m\u001b[0m\n\u001b[0m\u001b[1;32m      4\u001b[0m \u001b[0mb\u001b[0m\u001b[0;34m\u001b[0m\u001b[0;34m\u001b[0m\u001b[0m\n",
            "\u001b[0;31mTypeError\u001b[0m: must be str, not int"
          ]
        }
      ]
    },
    {
      "cell_type": "code",
      "metadata": {
        "id": "f7hMwQYJzVLo",
        "colab_type": "code",
        "colab": {
          "base_uri": "https://localhost:8080/",
          "height": 51
        },
        "outputId": "d89024f6-5678-42de-89f8-0f4f3ccbc689"
      },
      "source": [
        "a = int(input(\"請輸入：\"))\n",
        "a\n",
        "b=a+30\n",
        "b"
      ],
      "execution_count": 10,
      "outputs": [
        {
          "output_type": "stream",
          "text": [
            "請輸入：20\n"
          ],
          "name": "stdout"
        },
        {
          "output_type": "execute_result",
          "data": {
            "text/plain": [
              "50"
            ]
          },
          "metadata": {
            "tags": []
          },
          "execution_count": 10
        }
      ]
    },
    {
      "cell_type": "code",
      "metadata": {
        "id": "UC7ZfKpDzbVn",
        "colab_type": "code",
        "colab": {
          "base_uri": "https://localhost:8080/",
          "height": 51
        },
        "outputId": "ca4ad1f5-be40-451b-f2bb-88201170e598"
      },
      "source": [
        "a = eval(input(\"請輸入：\"))\n",
        "a\n",
        "b=a+30\n",
        "b"
      ],
      "execution_count": 11,
      "outputs": [
        {
          "output_type": "stream",
          "text": [
            "請輸入：20\n"
          ],
          "name": "stdout"
        },
        {
          "output_type": "execute_result",
          "data": {
            "text/plain": [
              "50"
            ]
          },
          "metadata": {
            "tags": []
          },
          "execution_count": 11
        }
      ]
    }
  ]
}